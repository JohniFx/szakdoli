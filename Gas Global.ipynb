{
 "cells": [
  {
   "cell_type": "code",
   "execution_count": 2,
   "metadata": {},
   "outputs": [],
   "source": [
    "import pandas as pd"
   ]
  },
  {
   "cell_type": "code",
   "execution_count": 3,
   "metadata": {},
   "outputs": [],
   "source": [
    "bp = pd.read_csv('bp-stats-review-2020-consolidated-dataset-narrow-format.csv')"
   ]
  },
  {
   "cell_type": "code",
   "execution_count": 6,
   "metadata": {},
   "outputs": [
    {
     "data": {
      "text/plain": [
       "array(['wind_twh', 'wind_mtoe', 'wind_ej', 'solar_twh', 'solar_mtoe',\n",
       "       'solar_ej', 'renewables_mtoe', 'renewables_ej', 'ren_power_twh',\n",
       "       'ren_power_mtoe', 'ren_power_ej', 'refthru_kbd', 'refcap_kbd',\n",
       "       'rareearths_kt', 'primary_mtoe', 'primary_gj_pc', 'primary_ej',\n",
       "       'oilreserves_bbl', 'oilprod_ngl_kbd', 'oilprod_mt', 'oilprod_kbd',\n",
       "       'oilprod_crudecond_kbd', 'oilcons_mtoe', 'oilcons_mt',\n",
       "       'oilcons_kbd', 'oilcons_ej', 'nuclear_twh', 'nuclear_mtoe',\n",
       "       'nuclear_ej', 'lithium_kt', 'liqcons_kbd', 'hydro_twh',\n",
       "       'hydro_mtoe', 'hydro_ej', 'graphite_kt', 'gasreserves_tcm',\n",
       "       'gasprod_mtoe', 'gasprod_ej', 'gasprod_bcm', 'gasprod_bcfd',\n",
       "       'gascons_mtoe', 'gascons_ej', 'gascons_bcm', 'gascons_bcfd',\n",
       "       'ethanol_prod_pj', 'ethanol_prod_ktoe', 'ethanol_prod_kboed',\n",
       "       'ethanol_prod_kbd', 'ethanol_cons_pj', 'ethanol_cons_ktoe',\n",
       "       'ethanol_cons_kboed', 'ethanol_cons_kbd', 'electbyfuel_oil',\n",
       "       'electbyfuel_gas', 'electbyfuel_coal', 'elect_twh', 'cobalt_kt',\n",
       "       'coalprod_mtoe', 'coalprod_mt', 'coalprod_ej', 'coalcons_mtoe',\n",
       "       'coalcons_ej', 'co2_mtco2', 'biogeo_twh', 'biogeo_mtoe',\n",
       "       'biogeo_ej', 'biofuels_prod_pj', 'biofuels_prod_ktoe',\n",
       "       'biofuels_prod_kboed', 'biofuels_prod_kbd', 'biofuels_cons_pj',\n",
       "       'biofuels_cons_mtoe', 'biofuels_cons_ktoe', 'biofuels_cons_kboed',\n",
       "       'biofuels_cons_kbd', 'biofuels_cons_ej', 'biodiesel_prod_pj',\n",
       "       'biodiesel_prod_ktoe', 'biodiesel_prod_kboed',\n",
       "       'biodiesel_prod_kbd', 'biodiesel_cons_pj', 'biodiesel_cons_ktoe',\n",
       "       'biodiesel_cons_kboed', 'biodiesel_cons_kbd', 'pop'], dtype=object)"
      ]
     },
     "execution_count": 6,
     "metadata": {},
     "output_type": "execute_result"
    }
   ],
   "source": [
    "bp"
   ]
  },
  {
   "cell_type": "code",
   "execution_count": null,
   "metadata": {},
   "outputs": [],
   "source": []
  }
 ],
 "metadata": {
  "kernelspec": {
   "display_name": "Python 3",
   "language": "python",
   "name": "python3"
  },
  "language_info": {
   "codemirror_mode": {
    "name": "ipython",
    "version": 3
   },
   "file_extension": ".py",
   "mimetype": "text/x-python",
   "name": "python",
   "nbconvert_exporter": "python",
   "pygments_lexer": "ipython3",
   "version": "3.8.2"
  }
 },
 "nbformat": 4,
 "nbformat_minor": 4
}
